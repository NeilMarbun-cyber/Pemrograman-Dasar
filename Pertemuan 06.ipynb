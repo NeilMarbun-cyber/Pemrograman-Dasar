{
  "nbformat": 4,
  "nbformat_minor": 0,
  "metadata": {
    "colab": {
      "provenance": [],
      "authorship_tag": "ABX9TyMl5/Uv5p6j6sPEgrSlQGWU",
      "include_colab_link": true
    },
    "kernelspec": {
      "name": "python3",
      "display_name": "Python 3"
    },
    "language_info": {
      "name": "python"
    }
  },
  "cells": [
    {
      "cell_type": "markdown",
      "metadata": {
        "id": "view-in-github",
        "colab_type": "text"
      },
      "source": [
        "<a href=\"https://colab.research.google.com/github/NeilMarbun-cyber/Pemrograman-Dasar/blob/main/Pertemuan%2006.ipynb\" target=\"_parent\"><img src=\"https://colab.research.google.com/assets/colab-badge.svg\" alt=\"Open In Colab\"/></a>"
      ]
    },
    {
      "cell_type": "markdown",
      "source": [
        "**JAWABAN SOAL NOMOR 1**\n"
      ],
      "metadata": {
        "id": "MPGh-ir8bWBz"
      }
    },
    {
      "cell_type": "code",
      "execution_count": null,
      "metadata": {
        "colab": {
          "base_uri": "https://localhost:8080/"
        },
        "id": "Tb_Zz_BRadBY",
        "outputId": "9a62a840-28d0-404c-8071-678f52719b53"
      },
      "outputs": [
        {
          "output_type": "stream",
          "name": "stdout",
          "text": [
            "Sistem siap. Selamat datang kembali di sesi praktikum.\n"
          ]
        }
      ],
      "source": [
        "# SOAL 1: Fungsi Inisialisasi Sederhana\n",
        "def sapa_praktikan():\n",
        "    \"\"\"Mencetak pesan sambutan dasar.\"\"\"\n",
        "    print(\"Sistem siap. Selamat datang kembali di sesi praktikum.\")\n",
        "\n",
        "# Pemanggilan:\n",
        "sapa_praktikan()"
      ]
    },
    {
      "cell_type": "code",
      "source": [
        "def Biodata():\n",
        "    \"\"\"Menampilkan biodata praktikan.\"\"\"\n",
        "    print(\"           BIODATA PRAKTIKAN       \")\n",
        "    print(\"Nama         : Neil Askia Marbun\")\n",
        "    print(\"NIM          : 4232411002\")\n",
        "    print(\"Kelas        : RPE Malam A\")\n",
        "    print(\"Program Studi: Rekayasa Pembangkit Energi\")\n",
        "    print(\"Universitas  : Politeknik Batam\")\n",
        "\n",
        "Biodata()\n"
      ],
      "metadata": {
        "colab": {
          "base_uri": "https://localhost:8080/"
        },
        "id": "8C6OMGNHa9kO",
        "outputId": "05015081-d52a-4ab7-ec64-9f675015c103"
      },
      "execution_count": null,
      "outputs": [
        {
          "output_type": "stream",
          "name": "stdout",
          "text": [
            "           BIODATA PRAKTIKAN       \n",
            "Nama         : Neil Askia Marbun\n",
            "NIM          : 4232411002\n",
            "Kelas        : RPE Malam A\n",
            "Program Studi: Rekayasa Pembangkit Energi\n",
            "Universitas  : Politeknik Batam\n"
          ]
        }
      ]
    },
    {
      "cell_type": "markdown",
      "source": [
        "**JAWABAN SOAL NOMOR 2**"
      ],
      "metadata": {
        "id": "IhQcKvkGedSo"
      }
    },
    {
      "cell_type": "code",
      "source": [
        "# SOAL 2: Menghitung Volume Kubus\n",
        "def hitung_volume_kubus(sisi):\n",
        "    \"\"\"Menghitung volume kubus dari panjang sisinya.\"\"\"\n",
        "    return sisi ** 3\n",
        "\n",
        "# Pemanggilan:\n",
        "panjang_sisi = 5\n",
        "print(f\"Volume kubus dengan sisi {panjang_sisi} adalah: {hitung_volume_kubus(panjang_sisi)}\")"
      ],
      "metadata": {
        "colab": {
          "base_uri": "https://localhost:8080/"
        },
        "id": "iJ_3toCFehq7",
        "outputId": "7d336cd1-c676-427d-a434-266c3931a8d4"
      },
      "execution_count": null,
      "outputs": [
        {
          "output_type": "stream",
          "name": "stdout",
          "text": [
            "Volume kubus dengan sisi 5 adalah: 125\n"
          ]
        }
      ]
    },
    {
      "cell_type": "code",
      "source": [
        "# MODIFIKASI: Fungsi untuk menghitung volume balok\n",
        "def hitung_volume_balok(panjang, lebar, tinggi):\n",
        "    \"\"\"Menghitung volume balok dengan parameter panjang, lebar, dan tinggi.\"\"\"\n",
        "    return panjang * lebar * tinggi\n",
        "\n",
        "# Pemanggilan fungsi modifikasi\n",
        "p = 10\n",
        "l = 20\n",
        "t = 4\n",
        "print(f\"Volume balok dengan ukuran {p} x {l} x {t} adalah: {hitung_volume_balok(p, l, t)}\")\n"
      ],
      "metadata": {
        "colab": {
          "base_uri": "https://localhost:8080/"
        },
        "id": "mc-wk-CDpRCB",
        "outputId": "c74b47b8-2aaa-4e94-cfdd-913d8c8aa9ea"
      },
      "execution_count": null,
      "outputs": [
        {
          "output_type": "stream",
          "name": "stdout",
          "text": [
            "Volume balok dengan ukuran 10 x 20 x 4 adalah: 800\n"
          ]
        }
      ]
    },
    {
      "cell_type": "markdown",
      "source": [
        "**JAWABAN SOAL NOMOR 3**\n"
      ],
      "metadata": {
        "id": "kGE4hlIqp5UT"
      }
    },
    {
      "cell_type": "code",
      "source": [
        "def hitung_rata_rata(data_nilai):\n",
        "    \"\"\"Menghitung rata-rata dari list angka menggunakan perulangan for.\"\"\"\n",
        "    total = 0\n",
        "    jumlah_data = 0\n",
        "\n",
        "    # Perulangan untuk menjumlahkan nilai\n",
        "    for nilai in data_nilai:\n",
        "        # MODIFIKASI: Cek apakah nilai valid (antara 0 dan 100)\n",
        "        if nilai < 0 or nilai > 100:\n",
        "            print(f\"⚠️ Nilai {nilai} diabaikan karena tidak valid (harus 0–100).\")\n",
        "            continue  # abaikan nilai yang tidak valid\n",
        "        total += nilai\n",
        "        jumlah_data += 1\n",
        "\n",
        "    # Pembagian untuk rata-rata\n",
        "    if jumlah_data > 0:\n",
        "        return total / jumlah_data\n",
        "    else:\n",
        "        return 0\n",
        "# Pemanggilan fungsi\n",
        "nilai_praktikan = [85, 78, 92, 65, 90]\n",
        "print(\"Nilai rata-rata kelas adalah:\", hitung_rata_rata(nilai_praktikan))\n",
        "\n",
        "# Uji tambahan dengan data tidak valid\n",
        "nilai_tidak_valid = [95, 110, -5, 80, 70]\n",
        "print(\"\\nUji dengan nilai tidak valid:\")\n",
        "print(\"Nilai rata-rata kelas adalah:\", hitung_rata_rata(nilai_tidak_valid))"
      ],
      "metadata": {
        "colab": {
          "base_uri": "https://localhost:8080/"
        },
        "id": "uXdWcvP1rB0y",
        "outputId": "d4ac3c8b-41bb-4873-cd0a-ac54f2c270ed"
      },
      "execution_count": null,
      "outputs": [
        {
          "output_type": "stream",
          "name": "stdout",
          "text": [
            "Nilai rata-rata kelas adalah: 82.0\n",
            "\n",
            "Uji dengan nilai tidak valid:\n",
            "⚠️ Nilai 110 diabaikan karena tidak valid (harus 0–100).\n",
            "⚠️ Nilai -5 diabaikan karena tidak valid (harus 0–100).\n",
            "Nilai rata-rata kelas adalah: 81.66666666666667\n"
          ]
        }
      ]
    },
    {
      "cell_type": "markdown",
      "source": [
        "**JAWABAN SOAL NOMOR 4**"
      ],
      "metadata": {
        "id": "sLrOPOKDh6-o"
      }
    },
    {
      "cell_type": "code",
      "source": [
        "def tentukan_predikat(skor):\n",
        "    \"\"\"Menentukan predikat (A, B, C, D, E) berdasarkan skor numerik (0–100).\"\"\"\n",
        "\n",
        "    # MODIFIKASI: Cek apakah input bertipe numerik\n",
        "    if not isinstance(skor, (int, float)):\n",
        "        return \" Error: Input harus berupa angka (int atau float).\"\n",
        "\n",
        "    # MODIFIKASI: Cek apakah skor dalam rentang 0–100\n",
        "    if skor < 0 or skor > 100:\n",
        "        return \" Error: Nilai harus antara 0 hingga 100.\"\n",
        "\n",
        "    # Struktur percabangan\n",
        "    if skor >= 85:\n",
        "        return \"A\"\n",
        "    elif skor >= 70:\n",
        "        return \"B\"\n",
        "    elif skor >= 60:\n",
        "        return \"C\"\n",
        "    elif skor >= 50:\n",
        "        return \"D\"\n",
        "    else:\n",
        "        return \"E\"\n",
        "\n",
        "# Pemanggilan fungsi\n",
        "print(f\"Skor 75 mendapat predikat: {tentukan_predikat(75)}\")\n",
        "print(f\"Skor 48 mendapat predikat: {tentukan_predikat(48)}\")\n",
        "\n",
        "# Uji tambahan\n",
        "print(f\"Skor 90 mendapat predikat: {tentukan_predikat(90)}\")\n",
        "print(f\"Skor -5 mendapat predikat: {tentukan_predikat(-5)}\")\n",
        "print(f\"Skor 'tujuh puluh' mendapat predikat: {tentukan_predikat('tujuh puluh')}\")"
      ],
      "metadata": {
        "colab": {
          "base_uri": "https://localhost:8080/"
        },
        "id": "Fxi_1W8Yh6Zp",
        "outputId": "2e45ff8b-d226-4767-eec6-b9325f74648d"
      },
      "execution_count": null,
      "outputs": [
        {
          "output_type": "stream",
          "name": "stdout",
          "text": [
            "Skor 75 mendapat predikat: B\n",
            "Skor 48 mendapat predikat: E\n",
            "Skor 90 mendapat predikat: A\n",
            "Skor -5 mendapat predikat:  Error: Nilai harus antara 0 hingga 100.\n",
            "Skor 'tujuh puluh' mendapat predikat:  Error: Input harus berupa angka (int atau float).\n"
          ]
        }
      ]
    },
    {
      "cell_type": "markdown",
      "source": [
        "**JAWABAN SOAL NOMOR 5**"
      ],
      "metadata": {
        "id": "dT_thUhNiuEp"
      }
    },
    {
      "cell_type": "code",
      "source": [
        "def hitung_faktorial(n):\n",
        "    \"\"\"Menghitung faktorial dari bilangan bulat positif n menggunakan perulangan while.\"\"\"\n",
        "\n",
        "    # MODIFIKASI: Cek tipe data\n",
        "    if not isinstance(n, int):\n",
        "        return \" Error: Input harus berupa bilangan bulat (integer).\"\n",
        "\n",
        "    # MODIFIKASI: Tangani kasus khusus\n",
        "    if n < 0:\n",
        "        return \" Error: Faktorial tidak didefinisikan untuk bilangan negatif.\"\n",
        "    elif n == 0:\n",
        "        return 1  # Faktorial 0 adalah 1\n",
        "\n",
        "    # Inisialisasi hasil faktorial\n",
        "    hasil = 1\n",
        "\n",
        "    # Perulangan while berjalan selama n lebih besar dari 1\n",
        "    while n > 1:\n",
        "        hasil *= n      # Kalikan hasil dengan n\n",
        "        n -= 1          # Kurangi n sebanyak 1\n",
        "\n",
        "    return hasil\n",
        "\n",
        "\n",
        "# Pemanggilan fungsi\n",
        "bilangan_n = 4\n",
        "print(f\"Faktorial dari {bilangan_n} adalah: {hitung_faktorial(bilangan_n)}\")  # Output: 24\n",
        "\n",
        "# Uji tambahan\n",
        "print(f\"Faktorial dari 0 adalah: {hitung_faktorial(0)}\")\n",
        "print(f\"Faktorial dari -3 adalah: {hitung_faktorial(-3)}\")\n",
        "print(f\"Faktorial dari 'lima' adalah: {hitung_faktorial('lima')}\")"
      ],
      "metadata": {
        "colab": {
          "base_uri": "https://localhost:8080/"
        },
        "id": "dQJNnDwsipx3",
        "outputId": "7de6e89f-2218-4f70-d0fe-80c3d0df0d44"
      },
      "execution_count": null,
      "outputs": [
        {
          "output_type": "stream",
          "name": "stdout",
          "text": [
            "Faktorial dari 4 adalah: 24\n",
            "Faktorial dari 0 adalah: 1\n",
            "Faktorial dari -3 adalah:  Error: Faktorial tidak didefinisikan untuk bilangan negatif.\n",
            "Faktorial dari 'lima' adalah:  Error: Input harus berupa bilangan bulat (integer).\n"
          ]
        }
      ]
    },
    {
      "cell_type": "markdown",
      "source": [
        "**JAWABAN SOAL NOMOR 6**"
      ],
      "metadata": {
        "id": "DiYQ7qpmjZEJ"
      }
    },
    {
      "cell_type": "code",
      "source": [
        "def analisis_suhu(data_suhu, batas_panas=35, batas_dingin=15):\n",
        "    \"\"\"\n",
        "    Menghitung jumlah hari 'Panas' dan 'Dingin' dari data_suhu.\n",
        "    - Panas jika suhu >= batas_panas (default: 35°C)\n",
        "    - Dingin jika suhu <= batas_dingin (default: 15°C)\n",
        "    \"\"\"\n",
        "    panas_count = 0\n",
        "    dingin_count = 0\n",
        "\n",
        "    # Perulangan untuk menghitung jumlah hari panas & dingin\n",
        "    for suhu in data_suhu:\n",
        "        if suhu >= batas_panas:\n",
        "            panas_count += 1\n",
        "        elif suhu <= batas_dingin:\n",
        "            dingin_count += 1\n",
        "\n",
        "    return panas_count, dingin_count\n",
        "\n",
        "\n",
        "# Pemanggilan fungsi dengan data suhu mingguan\n",
        "suhu_mingguan = [36, 30, 14, 25, 38, 16, 28]\n",
        "\n",
        "jumlah_panas, jumlah_dingin = analisis_suhu(suhu_mingguan)\n",
        "print(f\"Jumlah hari Panas (≥35°C): {jumlah_panas}\")\n",
        "print(f\"Jumlah hari Dingin (≤15°C): {jumlah_dingin}\")\n",
        "\n",
        "# Uji coba dengan batas berbeda\n",
        "jumlah_panas2, jumlah_dingin2 = analisis_suhu(suhu_mingguan, batas_panas=34, batas_dingin=18)\n",
        "print(\"\\nDengan batas disesuaikan:\")\n",
        "print(f\"Jumlah hari Panas (≥34°C): {jumlah_panas2}\")\n",
        "print(f\"Jumlah hari Dingin (≤18°C): {jumlah_dingin2}\")"
      ],
      "metadata": {
        "colab": {
          "base_uri": "https://localhost:8080/"
        },
        "id": "Qw9Y0BQIjYeB",
        "outputId": "e6e8e357-291e-437a-b212-5b599e7973f3"
      },
      "execution_count": null,
      "outputs": [
        {
          "output_type": "stream",
          "name": "stdout",
          "text": [
            "Jumlah hari Panas (≥35°C): 2\n",
            "Jumlah hari Dingin (≤15°C): 1\n",
            "\n",
            "Dengan batas disesuaikan:\n",
            "Jumlah hari Panas (≥34°C): 2\n",
            "Jumlah hari Dingin (≤18°C): 2\n"
          ]
        }
      ]
    }
  ]
}