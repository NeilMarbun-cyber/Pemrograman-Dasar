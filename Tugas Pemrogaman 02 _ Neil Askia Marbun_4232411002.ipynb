{
  "nbformat": 4,
  "nbformat_minor": 0,
  "metadata": {
    "colab": {
      "provenance": [],
      "authorship_tag": "ABX9TyPytm7Q6aNid0bWHN3Y9PoA",
      "include_colab_link": true
    },
    "kernelspec": {
      "name": "python3",
      "display_name": "Python 3"
    },
    "language_info": {
      "name": "python"
    }
  },
  "cells": [
    {
      "cell_type": "markdown",
      "metadata": {
        "id": "view-in-github",
        "colab_type": "text"
      },
      "source": [
        "<a href=\"https://colab.research.google.com/github/NeilMarbun-cyber/Pemrograman-Dasar/blob/main/Tugas%20Pemrogaman%2002%20_%20Neil%20Askia%20Marbun_4232411002.ipynb\" target=\"_parent\"><img src=\"https://colab.research.google.com/assets/colab-badge.svg\" alt=\"Open In Colab\"/></a>"
      ]
    },
    {
      "cell_type": "code",
      "execution_count": null,
      "metadata": {
        "colab": {
          "base_uri": "https://localhost:8080/"
        },
        "id": "HYrAWemyAokl",
        "outputId": "80856bfc-afec-4ff5-9bb7-7aa06c7a5475"
      },
      "outputs": [
        {
          "output_type": "stream",
          "name": "stdout",
          "text": [
            "[23, 43, 50, 34]\n"
          ]
        }
      ],
      "source": [
        "                                      # Tipe Data List\n",
        "# deklarasi variabel list\n",
        "numbers  = [23, 43, 15, 34]\n",
        "# cara mengakses elemen dalam variabel list\n",
        "numbers[0] # 23\n",
        "numbers[1] # 43\n",
        "numbers[2] # 15\n",
        "numbers[3] # 34\n",
        "# cara mengubah nilai elemen dalam variabel list\n",
        "numbers[2] # 51\n",
        "numbers[2] = 50\n",
        "\n",
        "print (numbers) #lakukan untuk setiap indexnya dan hasilnya"
      ]
    },
    {
      "cell_type": "code",
      "source": [
        "                                        # Tipe Data List\n",
        "\n",
        "# deklarasi variabel list numbers\n",
        "numbers = [1, 2, 3]\n",
        "# menambahkan elemen di indeks ke-4\n",
        "numbers.insert(4, 5) # [1, 2, 3, 5]\n",
        "# mengubah elemen di indeks ke-4\n",
        "numbers[3] = 4   #[1, 2, 3, 4]\n",
        "# menghapus elemen di indeks ke-2\n",
        "numbers.pop(2)   #[1, 2, 4]\n",
        "\n",
        "print (numbers)"
      ],
      "metadata": {
        "id": "ZWm0mEtLFn9g",
        "colab": {
          "base_uri": "https://localhost:8080/"
        },
        "outputId": "0b845e2f-39e9-4a33-a672-d9e4c8265b24"
      },
      "execution_count": 4,
      "outputs": [
        {
          "output_type": "stream",
          "name": "stdout",
          "text": [
            "[1, 2, 4]\n"
          ]
        }
      ]
    },
    {
      "cell_type": "code",
      "source": [
        "                                    # Tipe Data Slicing List\n",
        "\n",
        "x = [\"laptop\", \"monitor\", \"mouse\", \"mousepad\", \"keyboard\", \"webcam\", \"microphone\"]\n",
        "\n",
        "print (x[0:5:2])\n",
        "print (x[1:])\n",
        "print (x[:3])"
      ],
      "metadata": {
        "colab": {
          "base_uri": "https://localhost:8080/"
        },
        "id": "thd75ugS-4nM",
        "outputId": "b08c3223-e938-4da9-d720-a5c556aad617"
      },
      "execution_count": 6,
      "outputs": [
        {
          "output_type": "stream",
          "name": "stdout",
          "text": [
            "['laptop', 'mouse', 'keyboard']\n",
            "['monitor', 'mouse', 'mousepad', 'keyboard', 'webcam', 'microphone']\n",
            "['laptop', 'monitor', 'mouse']\n"
          ]
        }
      ]
    },
    {
      "cell_type": "code",
      "source": [
        "# Tugas Membuat Variabel FirstName, LastName, Age, Is Married\n",
        "\n",
        "firstname = \"Neil Askia\"\n",
        "lastname = \"Marbun\"\n",
        "age = 23\n",
        "ismarried = False\n",
        "\n",
        "print (firstname)\n",
        "print (lastname)\n",
        "print (age)\n",
        "print (ismarried)"
      ],
      "metadata": {
        "colab": {
          "base_uri": "https://localhost:8080/"
        },
        "id": "JdIzBE-QiNf3",
        "outputId": "3f1bdd16-751b-4183-f217-76bb4dd63f92"
      },
      "execution_count": null,
      "outputs": [
        {
          "output_type": "stream",
          "name": "stdout",
          "text": [
            "Neil Askia\n",
            "Marbun\n",
            "23\n",
            "False\n"
          ]
        }
      ]
    },
    {
      "cell_type": "code",
      "source": [
        "# Tugas Membuat Variabel Dictionary dengan nama 'data diri'\n",
        "\n",
        "data_diri = {\"firstname\": \"Neil Askia\", \"lastname\": \"Marbun\", \"age\": 23, \"isMarried\": False}\n",
        "\n",
        "print (data_diri)"
      ],
      "metadata": {
        "colab": {
          "base_uri": "https://localhost:8080/"
        },
        "id": "k2nMUh9_lUyK",
        "outputId": "11dff095-08f1-40fd-fc3b-bd39b7920d7d"
      },
      "execution_count": null,
      "outputs": [
        {
          "output_type": "stream",
          "name": "stdout",
          "text": [
            "{'firstname': 'Neil Askia', 'lastname': 'Marbun', 'age': 23, 'isMarried': False}\n"
          ]
        }
      ]
    },
    {
      "cell_type": "code",
      "source": [
        "# Tugas Membuat Variabel Inspeksi Bertipe Data List\n",
        "\n",
        "inspeksi = [ \"pemahaman terhadap rencana dan desain\",\n",
        "    \"ketersediaan bahan dan peralatan\",\n",
        "    \"pengawasan pekerjaan\",\n",
        "    \"kualitas konstruksi\",\n",
        "    \"keselamatan kerja\",\n",
        "    \"koordinasi dengan pemilik proyek\"]\n",
        "\n",
        "print (inspeksi)\n"
      ],
      "metadata": {
        "colab": {
          "base_uri": "https://localhost:8080/"
        },
        "id": "LS4qldRdmzkP",
        "outputId": "e8e7add6-10c0-48c6-c1e7-ce6dcc6390a5"
      },
      "execution_count": null,
      "outputs": [
        {
          "output_type": "stream",
          "name": "stdout",
          "text": [
            "['pemahaman terhadap rencana dan desain', 'ketersediaan bahan dan peralatan', 'pengawasan pekerjaan', 'kualitas konstruksi', 'keselamatan kerja', 'koordinasi dengan pemilik proyek']\n"
          ]
        }
      ]
    },
    {
      "cell_type": "code",
      "source": [
        "# Tugas Membuat Variabel Start Time Bertipe data Dictionary\n",
        "StartTime = {\"HH\" : 9,\n",
        "             \"mm\" : 23,\n",
        "             \"ss\" : 57}\n",
        "\n",
        " # Tugas Membuat Variabel End Time Bertipe data Dictionary\n",
        "EndTime = {'HH' : 15,\n",
        "           'mm' : 25,\n",
        "           'ss' : 43}\n",
        "\n",
        "\n",
        "\n",
        "print (\"Waktu Datang (Start Time):\", StartTime )\n",
        "print (\"Waktu Pulang (End Time):\", EndTime)"
      ],
      "metadata": {
        "id": "aDPATUmmtNgG",
        "colab": {
          "base_uri": "https://localhost:8080/"
        },
        "outputId": "608a1997-a10f-4d5e-b87a-ca3249a6ea47"
      },
      "execution_count": null,
      "outputs": [
        {
          "output_type": "stream",
          "name": "stdout",
          "text": [
            "Waktu Datang (Start Time): {'HH': 9, 'mm': 23, 'ss': 57}\n",
            "Waktu Pulang (End Time): {'HH': 15, 'mm': 25, 'ss': 43}\n"
          ]
        }
      ]
    },
    {
      "cell_type": "code",
      "source": [
        "              # Penggabungan dan analisis katalog produk\n",
        "\n",
        "##Katalog produk dari dua pemasok (set)\n",
        "katalog_A = {\"Laptop\", \"Printer\", \"Mouse\", \"Keyboard\"}\n",
        "katalog_B = {\"Monitor\", \"Laptop\", \"Scanner\", \"Keyboard\"}\n",
        "\n",
        "##Daftar produk yang sedang diskon (tuple)\n",
        "produk_diskon = (\"Laptop\", \"Printer\")\n",
        "\n",
        "# 1. Gabungkan katalog_A dan katalog_B menjadi set unik\n",
        "katalog_lengkap = katalog_A.union(katalog_B)\n",
        "\n",
        "# 2. Cari produk mana saja dari katalog_lengkap yang juga ada di produk_diskon\n",
        "produk_promo_aktif = katalog_lengkap.intersection(produk_diskon)\n",
        "\n",
        "print (\"Katalog A:\", katalog_A)\n",
        "print (\"Katalog B:\", katalog_B)\n",
        "print (\"Produk Diskon:\", produk_diskon)\n",
        "print (\"\\nKatalog Lengkap:\", katalog_lengkap)\n",
        "print (\"Produk Promo Aktif:\", produk_promo_aktif)"
      ],
      "metadata": {
        "id": "8D3-tiSb2ORj",
        "colab": {
          "base_uri": "https://localhost:8080/"
        },
        "outputId": "a8943746-4503-4ca7-9f51-cdeca3a1d81c"
      },
      "execution_count": 2,
      "outputs": [
        {
          "output_type": "stream",
          "name": "stdout",
          "text": [
            "Katalog A: {'Laptop', 'Mouse', 'Printer', 'Keyboard'}\n",
            "Katalog B: {'Laptop', 'Scanner', 'Keyboard', 'Monitor'}\n",
            "Produk Diskon: ('Laptop', 'Printer')\n",
            "\n",
            "Katalog Lengkap: {'Mouse', 'Monitor', 'Printer', 'Scanner', 'Laptop', 'Keyboard'}\n",
            "Produk Promo Aktif: {'Laptop', 'Printer'}\n"
          ]
        }
      ]
    }
  ]
}