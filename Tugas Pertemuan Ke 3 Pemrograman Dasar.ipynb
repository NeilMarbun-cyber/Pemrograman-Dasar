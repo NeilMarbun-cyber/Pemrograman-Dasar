{
  "nbformat": 4,
  "nbformat_minor": 0,
  "metadata": {
    "colab": {
      "provenance": [],
      "authorship_tag": "ABX9TyPM9m1GYFxAuySpGVbIrVTk",
      "include_colab_link": true
    },
    "kernelspec": {
      "name": "python3",
      "display_name": "Python 3"
    },
    "language_info": {
      "name": "python"
    }
  },
  "cells": [
    {
      "cell_type": "markdown",
      "metadata": {
        "id": "view-in-github",
        "colab_type": "text"
      },
      "source": [
        "<a href=\"https://colab.research.google.com/github/NeilMarbun-cyber/Pemrograman-Dasar/blob/main/Tugas%20Pertemuan%20Ke%203%20Pemrograman%20Dasar.ipynb\" target=\"_parent\"><img src=\"https://colab.research.google.com/assets/colab-badge.svg\" alt=\"Open In Colab\"/></a>"
      ]
    },
    {
      "cell_type": "code",
      "execution_count": null,
      "metadata": {
        "id": "48BFiVgsLjFa",
        "colab": {
          "base_uri": "https://localhost:8080/"
        },
        "outputId": "3469dba3-61ce-4f8b-d1c1-3fb1eb70c839"
      },
      "outputs": [
        {
          "output_type": "stream",
          "name": "stdout",
          "text": [
            "Masukkan tahun: 2024\n",
            "2024 adalah tahun kabisat\n"
          ]
        }
      ],
      "source": [
        "                                                # Latihan\n",
        "           # Program menentukan tahun kabisat\n",
        "\n",
        "# Input tahun dari pengguna\n",
        "tahun = int(input (\"Masukkan tahun: \"))\n",
        "\n",
        "# Ekspresi logika kabisat\n",
        "if (tahun % 4 == 0 and tahun % 100 != 0) or (tahun % 400 == 0):\n",
        "    print (tahun, \"adalah tahun kabisat\")\n",
        "else:\n",
        "    print (tahun, \"bukan tahun kabisat\")"
      ]
    },
    {
      "cell_type": "code",
      "source": [
        "                                          # Latihan\n",
        "# Program sederhana penjumlahan dua bilangan\n",
        "\n",
        "# Input angka dari pengguna\n",
        "a = int(input (\"Masukkan angka pertama: \"))\n",
        "b = int(input (\"Masukkan angka kedua: \"))\n",
        "\n",
        "# Operasi aritmatika\n",
        "hasil = a + b\n",
        "\n",
        "# Output hasil\n",
        "print (\"Hasil penjumlahan:\", hasil)\n"
      ],
      "metadata": {
        "id": "_IuHeLg7MDW1",
        "colab": {
          "base_uri": "https://localhost:8080/"
        },
        "outputId": "949fece8-418a-48a1-b7c2-7c8827487871"
      },
      "execution_count": null,
      "outputs": [
        {
          "output_type": "stream",
          "name": "stdout",
          "text": [
            "Masukkan angka pertama: 5\n",
            "Masukkan angka kedua: 5\n",
            "Hasil penjumlahan: 10\n"
          ]
        }
      ]
    },
    {
      "cell_type": "code",
      "source": [
        "                                                # Program Kasir Sederhana\n",
        "# Input data belanja (contoh item harga dalam rupiah)\n",
        "items = [35000, 25000, 50000]  # contoh: gula 35rb, teh 25rb, minyak 50rb\n",
        "is_member = True\n",
        "\n",
        "# 1. Hitung subtotal\n",
        "subtotal = sum (items)\n",
        "\n",
        "# 2. Cek syarat diskon\n",
        "if is_member and subtotal > 100000:\n",
        "    diskon = 0.15 * subtotal\n",
        "else:\n",
        "    diskon = 0\n",
        "\n",
        "# 3. Hitung harga setelah diskon\n",
        "harga_setelah_diskon = subtotal - diskon\n",
        "\n",
        "# 4. Hitung PPN 11%\n",
        "ppn = 0.11 * harga_setelah_diskon\n",
        "\n",
        "# 5. Hitung total akhir\n",
        "total_akhir = harga_setelah_diskon + ppn\n",
        "\n",
        "# Output\n",
        "print (\"Subtotal        : Rp\", subtotal)\n",
        "print (\"Diskon          : Rp\", diskon)\n",
        "print (\"Harga setelah diskon : Rp\", harga_setelah_diskon)\n",
        "print (\"PPN (11%)       : Rp\", ppn)\n",
        "print (\"Total Akhir     : Rp\", total_akhir)\n"
      ],
      "metadata": {
        "colab": {
          "base_uri": "https://localhost:8080/"
        },
        "id": "0W8xG7gSiYO9",
        "outputId": "a89ad961-d895-4bf4-af05-1be28517353d"
      },
      "execution_count": 3,
      "outputs": [
        {
          "output_type": "stream",
          "name": "stdout",
          "text": [
            "Subtotal        : Rp 110000\n",
            "Diskon          : Rp 16500.0\n",
            "Harga setelah diskon : Rp 93500.0\n",
            "PPN (11%)       : Rp 10285.0\n",
            "Total Akhir     : Rp 103785.0\n"
          ]
        }
      ]
    }
  ]
}