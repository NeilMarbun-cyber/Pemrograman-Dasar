{
  "nbformat": 4,
  "nbformat_minor": 0,
  "metadata": {
    "colab": {
      "provenance": [],
      "authorship_tag": "ABX9TyP/fZHPXgOR7CUWJn3trQmX",
      "include_colab_link": true
    },
    "kernelspec": {
      "name": "python3",
      "display_name": "Python 3"
    },
    "language_info": {
      "name": "python"
    }
  },
  "cells": [
    {
      "cell_type": "markdown",
      "metadata": {
        "id": "view-in-github",
        "colab_type": "text"
      },
      "source": [
        "<a href=\"https://colab.research.google.com/github/NeilMarbun-cyber/Pemrograman-Dasar/blob/main/Untitled.ipynb\" target=\"_parent\"><img src=\"https://colab.research.google.com/assets/colab-badge.svg\" alt=\"Open In Colab\"/></a>"
      ]
    },
    {
      "cell_type": "code",
      "execution_count": 12,
      "metadata": {
        "colab": {
          "base_uri": "https://localhost:8080/"
        },
        "id": "DNoHwq927vFR",
        "outputId": "922ebc95-af28-4b76-9ab7-ec38131632c0"
      },
      "outputs": [
        {
          "output_type": "stream",
          "name": "stdout",
          "text": [
            "Neil\n",
            "23\n",
            "RPE\n",
            "3\n",
            "Pemrograman Dasar\n",
            "False\n",
            "Kristen\n",
            "Berenang\n",
            "Wiraswasta\n",
            "4\n"
          ]
        }
      ],
      "source": [
        "# Biodata Saya\n",
        "nama = \"Neil\"\n",
        "umur = 23\n",
        "jurusan = \"RPE\"\n",
        "semester = 3\n",
        "matakuliah = \"Pemrograman Dasar\"\n",
        "status_lulus = False\n",
        "agama = \"Kristen\"\n",
        "hobby = \"Berenang\"\n",
        "pekerjaan = \"Wiraswasta\"\n",
        "jumlah_saudara = 4\n",
        "\n",
        "\n",
        "print (nama)\n",
        "print (umur)\n",
        "print (jurusan)\n",
        "print (semester)\n",
        "print (matakuliah)\n",
        "print (status_lulus)\n",
        "print (agama)\n",
        "print (hobby)\n",
        "print (pekerjaan)\n",
        "print (jumlah_saudara)\n",
        "\n"
      ]
    }
  ]
}