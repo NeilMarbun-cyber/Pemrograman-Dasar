{
  "nbformat": 4,
  "nbformat_minor": 0,
  "metadata": {
    "colab": {
      "provenance": [],
      "authorship_tag": "ABX9TyMaDfsh1o3i4OmQVgxi9zYf",
      "include_colab_link": true
    },
    "kernelspec": {
      "name": "python3",
      "display_name": "Python 3"
    },
    "language_info": {
      "name": "python"
    }
  },
  "cells": [
    {
      "cell_type": "markdown",
      "metadata": {
        "id": "view-in-github",
        "colab_type": "text"
      },
      "source": [
        "<a href=\"https://colab.research.google.com/github/NeilMarbun-cyber/Pemrograman-Dasar/blob/main/Untitled.ipynb\" target=\"_parent\"><img src=\"https://colab.research.google.com/assets/colab-badge.svg\" alt=\"Open In Colab\"/></a>"
      ]
    },
    {
      "cell_type": "code",
      "execution_count": 4,
      "metadata": {
        "colab": {
          "base_uri": "https://localhost:8080/"
        },
        "id": "DNoHwq927vFR",
        "outputId": "8e046724-91e3-4964-f302-3214a9198297"
      },
      "outputs": [
        {
          "output_type": "stream",
          "name": "stdout",
          "text": [
            "Neil\n",
            "23\n",
            "RPE\n",
            "3\n",
            "Pemrograman Dasar\n",
            "False\n",
            "Kristen\n",
            "Berenang\n",
            "Wiraswasta\n"
          ]
        }
      ],
      "source": [
        "# Biodata Saya\n",
        "nama = \"Neil\"\n",
        "umur = 23\n",
        "jurusan = \"RPE\"\n",
        "semester = 3\n",
        "matakuliah = \"Pemrograman Dasar\"\n",
        "status_lulus = False\n",
        "agama = \"Kristen\"\n",
        "hobby = \"Berenang\"\n",
        "pekerjaan = \"Wiraswasta\"\n",
        "\n",
        "print (nama)\n",
        "print (umur)\n",
        "print (jurusan)\n",
        "print (semester)\n",
        "print (matakuliah)\n",
        "print (status_lulus)\n",
        "print (agama)\n",
        "print (hobby)\n",
        "print (pekerjaan)\n",
        "\n"
      ]
    }
  ]
}